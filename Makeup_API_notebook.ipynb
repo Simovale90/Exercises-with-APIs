{
 "cells": [
  {
   "cell_type": "markdown",
   "id": "20929edf",
   "metadata": {},
   "source": [
    "Notebook by Simona Valente"
   ]
  },
  {
   "cell_type": "markdown",
   "id": "f8d39ff1-490e-4110-9ff1-8880fdba895c",
   "metadata": {},
   "source": [
    "### Makeup API - How to extract data through an API call"
   ]
  },
  {
   "cell_type": "markdown",
   "id": "e5aac0b8-67cf-496d-8b82-d7a2910ef36b",
   "metadata": {},
   "source": [
    "In this exercise we will use the [Makeup API](https://makeup-api.herokuapp.com/) from the [website](https://mixedanalytics.com/blog/list-actually-free-open-no-auth-needed-apis/) to retrieve and analyse the [data related to the Maybelline brand](https://makeup-api.herokuapp.com/api/v1/products.json?brand=maybelline)."
   ]
  },
  {
   "cell_type": "code",
   "execution_count": 1,
   "id": "33de4fa0-4c6b-412e-9d31-b60b777ec39a",
   "metadata": {},
   "outputs": [],
   "source": [
    "#import libraries\n",
    "\n",
    "import numpy as np\n",
    "import pandas as pd\n",
    "\n",
    "%matplotlib inline\n",
    "import matplotlib\n",
    "import matplotlib.pyplot as plt\n",
    "import seaborn as sns\n",
    "\n",
    "import requests"
   ]
  },
  {
   "cell_type": "markdown",
   "id": "d2d16ccf",
   "metadata": {},
   "source": [
    "#### Call API"
   ]
  },
  {
   "cell_type": "markdown",
   "id": "1e9b46db-0f67-4b99-940e-38a8eba9498d",
   "metadata": {},
   "source": [
    "1. Save the sample URL / endpoint as a string to an object called `url` and join it the `get()` function from the `requests` library, make an HTTP request and save it to a new object named `mkp`."
   ]
  },
  {
   "cell_type": "code",
   "execution_count": 2,
   "id": "ad08b583-bea2-4412-8b26-f3b2602e0e97",
   "metadata": {},
   "outputs": [],
   "source": [
    "url = 'https://makeup-api.herokuapp.com/api/v1/products.json?brand=maybelline'\n",
    "mkp = requests.get(url)"
   ]
  },
  {
   "cell_type": "markdown",
   "id": "f489e47a-19a6-4e74-bbdf-391fefd2b230",
   "metadata": {},
   "source": [
    "2. Check that the status of the request from the previous point was successful *(hint: 200 = OK)*."
   ]
  },
  {
   "cell_type": "code",
   "execution_count": 3,
   "id": "cdd35a73-f5e3-492a-a19a-58f8cbfe521f",
   "metadata": {},
   "outputs": [
    {
     "data": {
      "text/plain": [
       "200"
      ]
     },
     "execution_count": 3,
     "metadata": {},
     "output_type": "execute_result"
    }
   ],
   "source": [
    "mkp.status_code"
   ]
  },
  {
   "cell_type": "markdown",
   "id": "49870721-12ab-48d2-bef2-1d1fd5d3b319",
   "metadata": {},
   "source": [
    "3. Using the `.json()` method, check the contents of the data you retrieved via the API call. Then, using the `pd.DataFrame.from_dict()` function, save its contents to a DataFrame named `mkp_df`."
   ]
  },
  {
   "cell_type": "code",
   "execution_count": 4,
   "id": "7130b27b-4f27-4ec5-8dcf-d555c3c9446f",
   "metadata": {},
   "outputs": [
    {
     "data": {
      "text/plain": [
       "list"
      ]
     },
     "execution_count": 4,
     "metadata": {},
     "output_type": "execute_result"
    }
   ],
   "source": [
    "type(mkp.json())"
   ]
  },
  {
   "cell_type": "code",
   "execution_count": 5,
   "id": "0a89e937",
   "metadata": {},
   "outputs": [
    {
     "data": {
      "text/plain": [
       "{'id': 488,\n",
       " 'brand': 'maybelline',\n",
       " 'name': 'Maybelline Fit Me Bronzer',\n",
       " 'price': '10.29',\n",
       " 'price_sign': None,\n",
       " 'currency': None,\n",
       " 'image_link': 'https://d3t32hsnjxo7q6.cloudfront.net/i/d4f7d82b4858c622bb3c1cef07b9d850_ra,w158,h184_pa,w158,h184.png',\n",
       " 'product_link': 'https://well.ca/products/maybelline-fit-me-bronzer_31265.html',\n",
       " 'website_link': 'https://well.ca',\n",
       " 'description': \"Why You'll Love It\\n\\nLightweight pigments blend easily and wear evenly\\nProvides a natural, fade-proof bronzed color that leaves skin the way it was meant to be...fresh, breathing and natural\\n\\nFor Best Results: For soft, natural look, brush along cheekbone, sweeping upward.\",\n",
       " 'rating': 4.5,\n",
       " 'category': None,\n",
       " 'product_type': 'bronzer',\n",
       " 'tag_list': [],\n",
       " 'created_at': '2016-10-01T18:36:05.584Z',\n",
       " 'updated_at': '2017-12-23T21:08:49.985Z',\n",
       " 'product_api_url': 'https://makeup-api.herokuapp.com/api/v1/products/488.json',\n",
       " 'api_featured_image': '//s3.amazonaws.com/donovanbailey/products/api_featured_images/000/000/488/original/open-uri20171223-4-deo82c?1514063329',\n",
       " 'product_colors': [{'hex_value': '#CF9978', 'colour_name': 'Medium Bronze '}]}"
      ]
     },
     "execution_count": 5,
     "metadata": {},
     "output_type": "execute_result"
    }
   ],
   "source": [
    "#To analyze the content of the HTTP response I take the element with index 1\n",
    "mkp.json()[1]"
   ]
  },
  {
   "cell_type": "markdown",
   "id": "c1b7b905",
   "metadata": {},
   "source": [
    "#### Create a Dataframe from an `.json()` object."
   ]
  },
  {
   "cell_type": "code",
   "execution_count": 6,
   "id": "1dc4aebf-2f50-428f-8d42-407c916b7347",
   "metadata": {},
   "outputs": [
    {
     "data": {
      "text/html": [
       "<div>\n",
       "<style scoped>\n",
       "    .dataframe tbody tr th:only-of-type {\n",
       "        vertical-align: middle;\n",
       "    }\n",
       "\n",
       "    .dataframe tbody tr th {\n",
       "        vertical-align: top;\n",
       "    }\n",
       "\n",
       "    .dataframe thead th {\n",
       "        text-align: right;\n",
       "    }\n",
       "</style>\n",
       "<table border=\"1\" class=\"dataframe\">\n",
       "  <thead>\n",
       "    <tr style=\"text-align: right;\">\n",
       "      <th></th>\n",
       "      <th>id</th>\n",
       "      <th>brand</th>\n",
       "      <th>name</th>\n",
       "      <th>price</th>\n",
       "      <th>price_sign</th>\n",
       "      <th>currency</th>\n",
       "      <th>image_link</th>\n",
       "      <th>product_link</th>\n",
       "      <th>website_link</th>\n",
       "      <th>description</th>\n",
       "      <th>rating</th>\n",
       "      <th>category</th>\n",
       "      <th>product_type</th>\n",
       "      <th>tag_list</th>\n",
       "      <th>created_at</th>\n",
       "      <th>updated_at</th>\n",
       "      <th>product_api_url</th>\n",
       "      <th>api_featured_image</th>\n",
       "      <th>product_colors</th>\n",
       "    </tr>\n",
       "  </thead>\n",
       "  <tbody>\n",
       "    <tr>\n",
       "      <th>0</th>\n",
       "      <td>495</td>\n",
       "      <td>maybelline</td>\n",
       "      <td>Maybelline Face Studio Master Hi-Light Light B...</td>\n",
       "      <td>14.99</td>\n",
       "      <td>None</td>\n",
       "      <td>None</td>\n",
       "      <td>https://d3t32hsnjxo7q6.cloudfront.net/i/991799...</td>\n",
       "      <td>https://well.ca/products/maybelline-face-studi...</td>\n",
       "      <td>https://well.ca</td>\n",
       "      <td>Maybelline Face Studio Master Hi-Light Light B...</td>\n",
       "      <td>5.0</td>\n",
       "      <td>None</td>\n",
       "      <td>bronzer</td>\n",
       "      <td>[]</td>\n",
       "      <td>2016-10-01T18:36:15.012Z</td>\n",
       "      <td>2017-12-23T21:08:50.624Z</td>\n",
       "      <td>https://makeup-api.herokuapp.com/api/v1/produc...</td>\n",
       "      <td>//s3.amazonaws.com/donovanbailey/products/api_...</td>\n",
       "      <td>[]</td>\n",
       "    </tr>\n",
       "    <tr>\n",
       "      <th>1</th>\n",
       "      <td>488</td>\n",
       "      <td>maybelline</td>\n",
       "      <td>Maybelline Fit Me Bronzer</td>\n",
       "      <td>10.29</td>\n",
       "      <td>None</td>\n",
       "      <td>None</td>\n",
       "      <td>https://d3t32hsnjxo7q6.cloudfront.net/i/d4f7d8...</td>\n",
       "      <td>https://well.ca/products/maybelline-fit-me-bro...</td>\n",
       "      <td>https://well.ca</td>\n",
       "      <td>Why You'll Love It\\n\\nLightweight pigments ble...</td>\n",
       "      <td>4.5</td>\n",
       "      <td>None</td>\n",
       "      <td>bronzer</td>\n",
       "      <td>[]</td>\n",
       "      <td>2016-10-01T18:36:05.584Z</td>\n",
       "      <td>2017-12-23T21:08:49.985Z</td>\n",
       "      <td>https://makeup-api.herokuapp.com/api/v1/produc...</td>\n",
       "      <td>//s3.amazonaws.com/donovanbailey/products/api_...</td>\n",
       "      <td>[{'hex_value': '#CF9978', 'colour_name': 'Medi...</td>\n",
       "    </tr>\n",
       "    <tr>\n",
       "      <th>2</th>\n",
       "      <td>477</td>\n",
       "      <td>maybelline</td>\n",
       "      <td>Maybelline Facestudio Master Contour Kit</td>\n",
       "      <td>15.99</td>\n",
       "      <td>None</td>\n",
       "      <td>None</td>\n",
       "      <td>https://d3t32hsnjxo7q6.cloudfront.net/i/4f731d...</td>\n",
       "      <td>https://well.ca/products/maybelline-facestudio...</td>\n",
       "      <td>https://well.ca</td>\n",
       "      <td>Maybelline Facestudio Master Contour Kit is th...</td>\n",
       "      <td>NaN</td>\n",
       "      <td>None</td>\n",
       "      <td>bronzer</td>\n",
       "      <td>[]</td>\n",
       "      <td>2016-10-01T18:35:40.504Z</td>\n",
       "      <td>2017-12-23T21:08:48.157Z</td>\n",
       "      <td>https://makeup-api.herokuapp.com/api/v1/produc...</td>\n",
       "      <td>//s3.amazonaws.com/donovanbailey/products/api_...</td>\n",
       "      <td>[{'hex_value': '#9B7163', 'colour_name': None}...</td>\n",
       "    </tr>\n",
       "    <tr>\n",
       "      <th>3</th>\n",
       "      <td>468</td>\n",
       "      <td>maybelline</td>\n",
       "      <td>Maybelline Face Studio Master Hi-Light Light B...</td>\n",
       "      <td>14.99</td>\n",
       "      <td>None</td>\n",
       "      <td>None</td>\n",
       "      <td>https://d3t32hsnjxo7q6.cloudfront.net/i/462103...</td>\n",
       "      <td>https://well.ca/products/maybelline-face-studi...</td>\n",
       "      <td>https://well.ca</td>\n",
       "      <td>Maybelline Face Studio Master Hi-Light Light B...</td>\n",
       "      <td>NaN</td>\n",
       "      <td>powder</td>\n",
       "      <td>blush</td>\n",
       "      <td>[]</td>\n",
       "      <td>2016-10-01T18:35:27.706Z</td>\n",
       "      <td>2017-12-23T21:08:47.102Z</td>\n",
       "      <td>https://makeup-api.herokuapp.com/api/v1/produc...</td>\n",
       "      <td>//s3.amazonaws.com/donovanbailey/products/api_...</td>\n",
       "      <td>[]</td>\n",
       "    </tr>\n",
       "    <tr>\n",
       "      <th>4</th>\n",
       "      <td>452</td>\n",
       "      <td>maybelline</td>\n",
       "      <td>Maybelline Face Studio Master Hi-Light Light B...</td>\n",
       "      <td>14.99</td>\n",
       "      <td>None</td>\n",
       "      <td>None</td>\n",
       "      <td>https://d3t32hsnjxo7q6.cloudfront.net/i/e8c59b...</td>\n",
       "      <td>https://well.ca/products/maybelline-face-studi...</td>\n",
       "      <td>https://well.ca</td>\n",
       "      <td>Maybelline Face Studio Master Hi-Light Light B...</td>\n",
       "      <td>5.0</td>\n",
       "      <td>powder</td>\n",
       "      <td>blush</td>\n",
       "      <td>[]</td>\n",
       "      <td>2016-10-01T18:35:07.476Z</td>\n",
       "      <td>2017-12-23T20:51:17.460Z</td>\n",
       "      <td>https://makeup-api.herokuapp.com/api/v1/produc...</td>\n",
       "      <td>//s3.amazonaws.com/donovanbailey/products/api_...</td>\n",
       "      <td>[]</td>\n",
       "    </tr>\n",
       "  </tbody>\n",
       "</table>\n",
       "</div>"
      ],
      "text/plain": [
       "    id       brand                                               name  price  \\\n",
       "0  495  maybelline  Maybelline Face Studio Master Hi-Light Light B...  14.99   \n",
       "1  488  maybelline                          Maybelline Fit Me Bronzer  10.29   \n",
       "2  477  maybelline           Maybelline Facestudio Master Contour Kit  15.99   \n",
       "3  468  maybelline  Maybelline Face Studio Master Hi-Light Light B...  14.99   \n",
       "4  452  maybelline  Maybelline Face Studio Master Hi-Light Light B...  14.99   \n",
       "\n",
       "  price_sign currency                                         image_link  \\\n",
       "0       None     None  https://d3t32hsnjxo7q6.cloudfront.net/i/991799...   \n",
       "1       None     None  https://d3t32hsnjxo7q6.cloudfront.net/i/d4f7d8...   \n",
       "2       None     None  https://d3t32hsnjxo7q6.cloudfront.net/i/4f731d...   \n",
       "3       None     None  https://d3t32hsnjxo7q6.cloudfront.net/i/462103...   \n",
       "4       None     None  https://d3t32hsnjxo7q6.cloudfront.net/i/e8c59b...   \n",
       "\n",
       "                                        product_link     website_link  \\\n",
       "0  https://well.ca/products/maybelline-face-studi...  https://well.ca   \n",
       "1  https://well.ca/products/maybelline-fit-me-bro...  https://well.ca   \n",
       "2  https://well.ca/products/maybelline-facestudio...  https://well.ca   \n",
       "3  https://well.ca/products/maybelline-face-studi...  https://well.ca   \n",
       "4  https://well.ca/products/maybelline-face-studi...  https://well.ca   \n",
       "\n",
       "                                         description  rating category  \\\n",
       "0  Maybelline Face Studio Master Hi-Light Light B...     5.0     None   \n",
       "1  Why You'll Love It\\n\\nLightweight pigments ble...     4.5     None   \n",
       "2  Maybelline Facestudio Master Contour Kit is th...     NaN     None   \n",
       "3  Maybelline Face Studio Master Hi-Light Light B...     NaN   powder   \n",
       "4  Maybelline Face Studio Master Hi-Light Light B...     5.0   powder   \n",
       "\n",
       "  product_type tag_list                created_at                updated_at  \\\n",
       "0      bronzer       []  2016-10-01T18:36:15.012Z  2017-12-23T21:08:50.624Z   \n",
       "1      bronzer       []  2016-10-01T18:36:05.584Z  2017-12-23T21:08:49.985Z   \n",
       "2      bronzer       []  2016-10-01T18:35:40.504Z  2017-12-23T21:08:48.157Z   \n",
       "3        blush       []  2016-10-01T18:35:27.706Z  2017-12-23T21:08:47.102Z   \n",
       "4        blush       []  2016-10-01T18:35:07.476Z  2017-12-23T20:51:17.460Z   \n",
       "\n",
       "                                     product_api_url  \\\n",
       "0  https://makeup-api.herokuapp.com/api/v1/produc...   \n",
       "1  https://makeup-api.herokuapp.com/api/v1/produc...   \n",
       "2  https://makeup-api.herokuapp.com/api/v1/produc...   \n",
       "3  https://makeup-api.herokuapp.com/api/v1/produc...   \n",
       "4  https://makeup-api.herokuapp.com/api/v1/produc...   \n",
       "\n",
       "                                  api_featured_image  \\\n",
       "0  //s3.amazonaws.com/donovanbailey/products/api_...   \n",
       "1  //s3.amazonaws.com/donovanbailey/products/api_...   \n",
       "2  //s3.amazonaws.com/donovanbailey/products/api_...   \n",
       "3  //s3.amazonaws.com/donovanbailey/products/api_...   \n",
       "4  //s3.amazonaws.com/donovanbailey/products/api_...   \n",
       "\n",
       "                                      product_colors  \n",
       "0                                                 []  \n",
       "1  [{'hex_value': '#CF9978', 'colour_name': 'Medi...  \n",
       "2  [{'hex_value': '#9B7163', 'colour_name': None}...  \n",
       "3                                                 []  \n",
       "4                                                 []  "
      ]
     },
     "execution_count": 6,
     "metadata": {},
     "output_type": "execute_result"
    }
   ],
   "source": [
    "mkp_json = mkp.json()\n",
    "mkp_df = pd.DataFrame.from_dict(mkp_json)\n",
    "mkp_df.head()"
   ]
  },
  {
   "cell_type": "markdown",
   "id": "21f738b0",
   "metadata": {},
   "source": [
    "#### Data Analysis"
   ]
  },
  {
   "cell_type": "markdown",
   "id": "6cc82f49-a3eb-4798-8797-aca6a9007a73",
   "metadata": {},
   "source": [
    "4. Check the shape of new dataframe and the data type of all columns in the DataFrame. The `price` variable is stored as a string, but it should be a numeric variable. Convert it to numeric.. "
   ]
  },
  {
   "cell_type": "code",
   "execution_count": 7,
   "id": "e16d9881",
   "metadata": {},
   "outputs": [
    {
     "data": {
      "text/plain": [
       "(54, 19)"
      ]
     },
     "execution_count": 7,
     "metadata": {},
     "output_type": "execute_result"
    }
   ],
   "source": [
    "mkp_df.shape"
   ]
  },
  {
   "cell_type": "code",
   "execution_count": 8,
   "id": "316e2812-7df7-41ed-85a3-89709a4d0478",
   "metadata": {},
   "outputs": [
    {
     "name": "stdout",
     "output_type": "stream",
     "text": [
      "<class 'pandas.core.frame.DataFrame'>\n",
      "RangeIndex: 54 entries, 0 to 53\n",
      "Data columns (total 19 columns):\n",
      " #   Column              Non-Null Count  Dtype  \n",
      "---  ------              --------------  -----  \n",
      " 0   id                  54 non-null     int64  \n",
      " 1   brand               54 non-null     object \n",
      " 2   name                54 non-null     object \n",
      " 3   price               54 non-null     object \n",
      " 4   price_sign          0 non-null      object \n",
      " 5   currency            0 non-null      object \n",
      " 6   image_link          54 non-null     object \n",
      " 7   product_link        54 non-null     object \n",
      " 8   website_link        54 non-null     object \n",
      " 9   description         54 non-null     object \n",
      " 10  rating              46 non-null     float64\n",
      " 11  category            31 non-null     object \n",
      " 12  product_type        54 non-null     object \n",
      " 13  tag_list            54 non-null     object \n",
      " 14  created_at          54 non-null     object \n",
      " 15  updated_at          54 non-null     object \n",
      " 16  product_api_url     54 non-null     object \n",
      " 17  api_featured_image  54 non-null     object \n",
      " 18  product_colors      54 non-null     object \n",
      "dtypes: float64(1), int64(1), object(17)\n",
      "memory usage: 8.1+ KB\n"
     ]
    }
   ],
   "source": [
    "mkp_df.info()"
   ]
  },
  {
   "cell_type": "code",
   "execution_count": 9,
   "id": "7cb359bf-f18d-4f76-ae47-8c585acddb30",
   "metadata": {},
   "outputs": [],
   "source": [
    "mkp_df['price'] = pd.to_numeric(mkp_df['price'])"
   ]
  },
  {
   "cell_type": "markdown",
   "id": "d7642f58",
   "metadata": {},
   "source": [
    "5. What is the the most expensive product? "
   ]
  },
  {
   "cell_type": "code",
   "execution_count": 10,
   "id": "8011e52d",
   "metadata": {},
   "outputs": [
    {
     "data": {
      "text/html": [
       "<div>\n",
       "<style scoped>\n",
       "    .dataframe tbody tr th:only-of-type {\n",
       "        vertical-align: middle;\n",
       "    }\n",
       "\n",
       "    .dataframe tbody tr th {\n",
       "        vertical-align: top;\n",
       "    }\n",
       "\n",
       "    .dataframe thead th {\n",
       "        text-align: right;\n",
       "    }\n",
       "</style>\n",
       "<table border=\"1\" class=\"dataframe\">\n",
       "  <thead>\n",
       "    <tr style=\"text-align: right;\">\n",
       "      <th></th>\n",
       "      <th>name</th>\n",
       "      <th>price</th>\n",
       "    </tr>\n",
       "  </thead>\n",
       "  <tbody>\n",
       "    <tr>\n",
       "      <th>12</th>\n",
       "      <td>Maybelline Dream Velvet Foundation</td>\n",
       "      <td>18.49</td>\n",
       "    </tr>\n",
       "  </tbody>\n",
       "</table>\n",
       "</div>"
      ],
      "text/plain": [
       "                                  name  price\n",
       "12  Maybelline Dream Velvet Foundation  18.49"
      ]
     },
     "execution_count": 10,
     "metadata": {},
     "output_type": "execute_result"
    }
   ],
   "source": [
    "moreexp_product = mkp_df[mkp_df['price']==mkp_df['price'].max()]\n",
    "table_moreexp_product = moreexp_product[['name','price']]\n",
    "table_moreexp_product"
   ]
  },
  {
   "cell_type": "markdown",
   "id": "4014575b",
   "metadata": {},
   "source": [
    "6. Create a table with the products with the highest rating."
   ]
  },
  {
   "cell_type": "code",
   "execution_count": 11,
   "id": "1d1f244c",
   "metadata": {},
   "outputs": [
    {
     "data": {
      "text/html": [
       "<div>\n",
       "<style scoped>\n",
       "    .dataframe tbody tr th:only-of-type {\n",
       "        vertical-align: middle;\n",
       "    }\n",
       "\n",
       "    .dataframe tbody tr th {\n",
       "        vertical-align: top;\n",
       "    }\n",
       "\n",
       "    .dataframe thead th {\n",
       "        text-align: right;\n",
       "    }\n",
       "</style>\n",
       "<table border=\"1\" class=\"dataframe\">\n",
       "  <thead>\n",
       "    <tr style=\"text-align: right;\">\n",
       "      <th></th>\n",
       "      <th>name</th>\n",
       "      <th>rating</th>\n",
       "      <th>category</th>\n",
       "    </tr>\n",
       "  </thead>\n",
       "  <tbody>\n",
       "    <tr>\n",
       "      <th>0</th>\n",
       "      <td>Maybelline Face Studio Master Hi-Light Light B...</td>\n",
       "      <td>5.0</td>\n",
       "      <td>None</td>\n",
       "    </tr>\n",
       "    <tr>\n",
       "      <th>4</th>\n",
       "      <td>Maybelline Face Studio Master Hi-Light Light B...</td>\n",
       "      <td>5.0</td>\n",
       "      <td>powder</td>\n",
       "    </tr>\n",
       "    <tr>\n",
       "      <th>40</th>\n",
       "      <td>Maybelline Color Sensational Vivids Lipcolour</td>\n",
       "      <td>5.0</td>\n",
       "      <td>lipstick</td>\n",
       "    </tr>\n",
       "    <tr>\n",
       "      <th>41</th>\n",
       "      <td>Maybelline Color Sensational Creamy Mattes Lip...</td>\n",
       "      <td>5.0</td>\n",
       "      <td>lipstick</td>\n",
       "    </tr>\n",
       "  </tbody>\n",
       "</table>\n",
       "</div>"
      ],
      "text/plain": [
       "                                                 name  rating  category\n",
       "0   Maybelline Face Studio Master Hi-Light Light B...     5.0      None\n",
       "4   Maybelline Face Studio Master Hi-Light Light B...     5.0    powder\n",
       "40      Maybelline Color Sensational Vivids Lipcolour     5.0  lipstick\n",
       "41  Maybelline Color Sensational Creamy Mattes Lip...     5.0  lipstick"
      ]
     },
     "execution_count": 11,
     "metadata": {},
     "output_type": "execute_result"
    }
   ],
   "source": [
    "rating_max = mkp_df['rating'].max()\n",
    "best_product = mkp_df[mkp_df['rating']==rating_max]\n",
    "table_best_product = best_product[['name','rating','category']]\n",
    "table_best_product"
   ]
  },
  {
   "cell_type": "markdown",
   "id": "6504c403-25ba-4383-927f-5e4dc159fde7",
   "metadata": {},
   "source": [
    "7. Create a new DataFrame named `mkp_df_group` where you group all the `product_type`s and show their average price and rating. Sort them by rating."
   ]
  },
  {
   "cell_type": "code",
   "execution_count": 12,
   "id": "f5daaad6-5757-4587-9daa-1faa34e2cf5a",
   "metadata": {},
   "outputs": [
    {
     "data": {
      "text/html": [
       "<div>\n",
       "<style scoped>\n",
       "    .dataframe tbody tr th:only-of-type {\n",
       "        vertical-align: middle;\n",
       "    }\n",
       "\n",
       "    .dataframe tbody tr th {\n",
       "        vertical-align: top;\n",
       "    }\n",
       "\n",
       "    .dataframe thead th {\n",
       "        text-align: right;\n",
       "    }\n",
       "</style>\n",
       "<table border=\"1\" class=\"dataframe\">\n",
       "  <thead>\n",
       "    <tr style=\"text-align: right;\">\n",
       "      <th></th>\n",
       "      <th>product_type</th>\n",
       "      <th>price</th>\n",
       "      <th>rating</th>\n",
       "    </tr>\n",
       "  </thead>\n",
       "  <tbody>\n",
       "    <tr>\n",
       "      <th>0</th>\n",
       "      <td>blush</td>\n",
       "      <td>13.065000</td>\n",
       "      <td>4.766667</td>\n",
       "    </tr>\n",
       "    <tr>\n",
       "      <th>1</th>\n",
       "      <td>bronzer</td>\n",
       "      <td>13.756667</td>\n",
       "      <td>4.750000</td>\n",
       "    </tr>\n",
       "    <tr>\n",
       "      <th>6</th>\n",
       "      <td>lipstick</td>\n",
       "      <td>10.704286</td>\n",
       "      <td>4.400000</td>\n",
       "    </tr>\n",
       "    <tr>\n",
       "      <th>2</th>\n",
       "      <td>eyeliner</td>\n",
       "      <td>9.940000</td>\n",
       "      <td>4.233333</td>\n",
       "    </tr>\n",
       "    <tr>\n",
       "      <th>7</th>\n",
       "      <td>mascara</td>\n",
       "      <td>9.817273</td>\n",
       "      <td>4.160000</td>\n",
       "    </tr>\n",
       "    <tr>\n",
       "      <th>4</th>\n",
       "      <td>foundation</td>\n",
       "      <td>14.080000</td>\n",
       "      <td>3.877778</td>\n",
       "    </tr>\n",
       "    <tr>\n",
       "      <th>3</th>\n",
       "      <td>eyeshadow</td>\n",
       "      <td>11.847143</td>\n",
       "      <td>3.757143</td>\n",
       "    </tr>\n",
       "    <tr>\n",
       "      <th>5</th>\n",
       "      <td>lip_liner</td>\n",
       "      <td>8.290000</td>\n",
       "      <td>3.500000</td>\n",
       "    </tr>\n",
       "    <tr>\n",
       "      <th>8</th>\n",
       "      <td>nail_polish</td>\n",
       "      <td>4.490000</td>\n",
       "      <td>3.433333</td>\n",
       "    </tr>\n",
       "  </tbody>\n",
       "</table>\n",
       "</div>"
      ],
      "text/plain": [
       "  product_type      price    rating\n",
       "0        blush  13.065000  4.766667\n",
       "1      bronzer  13.756667  4.750000\n",
       "6     lipstick  10.704286  4.400000\n",
       "2     eyeliner   9.940000  4.233333\n",
       "7      mascara   9.817273  4.160000\n",
       "4   foundation  14.080000  3.877778\n",
       "3    eyeshadow  11.847143  3.757143\n",
       "5    lip_liner   8.290000  3.500000\n",
       "8  nail_polish   4.490000  3.433333"
      ]
     },
     "execution_count": 12,
     "metadata": {},
     "output_type": "execute_result"
    }
   ],
   "source": [
    "mkp_df_group = mkp_df.groupby('product_type', as_index=False)[['price', 'rating']].mean().sort_values('rating',ascending=False)\n",
    "mkp_df_group"
   ]
  },
  {
   "cell_type": "markdown",
   "id": "879fa2f7-0d78-4c77-9b8d-e0585d392127",
   "metadata": {},
   "source": [
    "8. Create a scatterplot where you show the relationship between the `price` (on the x-axis) and the `rating` (on the y-axis) variables. "
   ]
  },
  {
   "cell_type": "code",
   "execution_count": 13,
   "id": "f02b4837-f00a-4f41-8eff-d4b69b2664cd",
   "metadata": {},
   "outputs": [
    {
     "data": {
      "image/png": "[encoded data removed]",
      "text/plain": [
       "<Figure size 640x480 with 1 Axes>"
      ]
     },
     "metadata": {},
     "output_type": "display_data"
    }
   ],
   "source": [
    "sns.scatterplot(x='price', y='rating', data=mkp_df_group, hue = 'product_type')\n",
    "plt.show()"
   ]
  },
  {
   "cell_type": "markdown",
   "id": "b34b8a2b-6a9b-4dd9-b13d-dfd364817afd",
   "metadata": {},
   "source": [
    "9. If you were to speak to the product department, which of these products would you recommend them to focus on in order to improve the overall customer satisfaction, considering their value for money?"
   ]
  },
  {
   "cell_type": "markdown",
   "id": "ba3bf9d6-096c-48c9-b7c8-95d687155583",
   "metadata": {},
   "source": [
    "I would encourage them to understand why the customers are not so happy about the eyeshadow and the foundation products, since they seem to be quite expensive products (a proxy for higher quality) but are receiving (relatively) low ratings (compared to other similarly priced products). "
   ]
  },
  {
   "cell_type": "markdown",
   "id": "2a8fcbf5",
   "metadata": {},
   "source": [
    "10. How is our product portfolio distributed?"
   ]
  },
  {
   "cell_type": "code",
   "execution_count": 14,
   "id": "f30e922b",
   "metadata": {},
   "outputs": [
    {
     "data": {
      "image/png": "[encoded data removed]",
      "text/plain": [
       "<Figure size 1000x600 with 1 Axes>"
      ]
     },
     "metadata": {},
     "output_type": "display_data"
    }
   ],
   "source": [
    "#I need this step to transform category into a numeric variable\n",
    "count_for_category = mkp_df['category'].value_counts()\n",
    "\n",
    "plt.figure(figsize=(10, 6))\n",
    "count_for_category.plot(kind='bar')\n",
    "plt.title('Products for category')\n",
    "plt.xlabel('Categories')\n",
    "plt.ylabel('Numbers of Products')\n",
    "plt.xticks(rotation=45)\n",
    "plt.show()"
   ]
  }
 ],
 "metadata": {
  "kernelspec": {
   "display_name": "boolean",
   "language": "python",
   "name": "python3"
  },
  "language_info": {
   "codemirror_mode": {
    "name": "ipython",
    "version": 3
   },
   "file_extension": ".py",
   "mimetype": "text/x-python",
   "name": "python",
   "nbconvert_exporter": "python",
   "pygments_lexer": "ipython3",
   "version": "3.11.4"
  },
  "vscode": {
   "interpreter": {
    "hash": "ce9e66d96ae77810950d508d3d42a2a0e7dca50d71a822ca995929b520c9e5a8"
   }
  }
 },
 "nbformat": 4,
 "nbformat_minor": 5
}
